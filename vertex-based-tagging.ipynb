{
 "cells": [
  {
   "cell_type": "code",
   "execution_count": 1,
   "metadata": {
    "collapsed": false
   },
   "outputs": [
    {
     "name": "stdout",
     "output_type": "stream",
     "text": [
      "Populating the interactive namespace from numpy and matplotlib\n"
     ]
    }
   ],
   "source": [
    "%pylab inline"
   ]
  },
  {
   "cell_type": "markdown",
   "metadata": {},
   "source": [
    "##Import"
   ]
  },
  {
   "cell_type": "code",
   "execution_count": 2,
   "metadata": {
    "collapsed": false
   },
   "outputs": [],
   "source": [
    "import pandas\n",
    "import numpy\n",
    "\n",
    "from sklearn.ensemble import RandomForestClassifier\n",
    "from sklearn.metrics import roc_curve, roc_auc_score\n",
    "\n",
    "from rep.metaml import FoldingClassifier\n",
    "from rep.data import LabeledDataStorage\n",
    "from rep.report import ClassificationReport\n",
    "from rep.report.metrics import RocAuc"
   ]
  },
  {
   "cell_type": "code",
   "execution_count": 3,
   "metadata": {
    "collapsed": false
   },
   "outputs": [],
   "source": [
    "from utils import get_N_B_events, get_events_number, get_events_statistics"
   ]
  },
  {
   "cell_type": "markdown",
   "metadata": {},
   "source": [
    "## Reading initial data"
   ]
  },
  {
   "cell_type": "code",
   "execution_count": 4,
   "metadata": {
    "collapsed": false
   },
   "outputs": [],
   "source": [
    "import root_numpy\n",
    "data = pandas.DataFrame(root_numpy.root2array('datasets/1016_vtx.root'))"
   ]
  },
  {
   "cell_type": "markdown",
   "metadata": {},
   "source": [
    "## Define label\n",
    "`label` = `signB` * `signVtx` > 0\n",
    "* same sign of B and vtx -> label = 1\n",
    "* opposite sign of B and vtx -> label = 0"
   ]
  },
  {
   "cell_type": "code",
   "execution_count": 5,
   "metadata": {
    "collapsed": false
   },
   "outputs": [],
   "source": [
    "event_id_column = 'event_id'\n",
    "data[event_id_column] = data.runNum.apply(str) + '_' + (data.evtNum.apply(int)).apply(str)\n",
    "# reconstructing sign of B\n",
    "data['signB'] = data.tagAnswer * (2 * data.iscorrect - 1)\n",
    "# assure sign is +1 or -1\n",
    "data['signVtx'] = (data.signVtx.values > 0) * 2 - 1\n",
    "data['label'] = (data.signVtx.values * data.signB.values > 0) * 1"
   ]
  },
  {
   "cell_type": "code",
   "execution_count": 6,
   "metadata": {
    "collapsed": false
   },
   "outputs": [
    {
     "data": {
      "text/html": [
       "<div style=\"max-height:1000px;max-width:1500px;overflow:auto;\">\n",
       "<table border=\"1\" class=\"dataframe\">\n",
       "  <thead>\n",
       "    <tr style=\"text-align: right;\">\n",
       "      <th></th>\n",
       "      <th>iscorrect</th>\n",
       "      <th>tagAnswer</th>\n",
       "      <th>signVtx</th>\n",
       "      <th>tagger</th>\n",
       "      <th>evtNum</th>\n",
       "      <th>runNum</th>\n",
       "      <th>nnkrec</th>\n",
       "      <th>mult</th>\n",
       "      <th>ptB</th>\n",
       "      <th>etaB</th>\n",
       "      <th>...</th>\n",
       "      <th>svp</th>\n",
       "      <th>om_muon</th>\n",
       "      <th>om_ele</th>\n",
       "      <th>om_kaon</th>\n",
       "      <th>om_same</th>\n",
       "      <th>om_vtx</th>\n",
       "      <th>N_sig_sw</th>\n",
       "      <th>event_id</th>\n",
       "      <th>signB</th>\n",
       "      <th>label</th>\n",
       "    </tr>\n",
       "  </thead>\n",
       "  <tbody>\n",
       "    <tr>\n",
       "      <th>0</th>\n",
       "      <td> 0</td>\n",
       "      <td> 1</td>\n",
       "      <td>-1</td>\n",
       "      <td> 0</td>\n",
       "      <td> 490856995</td>\n",
       "      <td> 115839</td>\n",
       "      <td> 3</td>\n",
       "      <td> 19</td>\n",
       "      <td>-0.382002</td>\n",
       "      <td>-6.307031</td>\n",
       "      <td>...</td>\n",
       "      <td> 5.458805</td>\n",
       "      <td> 0</td>\n",
       "      <td> 0</td>\n",
       "      <td> 0</td>\n",
       "      <td> 0</td>\n",
       "      <td> 0</td>\n",
       "      <td> 1.034008</td>\n",
       "      <td> 115839_490856995</td>\n",
       "      <td>-1</td>\n",
       "      <td> 1</td>\n",
       "    </tr>\n",
       "    <tr>\n",
       "      <th>1</th>\n",
       "      <td> 1</td>\n",
       "      <td> 1</td>\n",
       "      <td>-1</td>\n",
       "      <td> 0</td>\n",
       "      <td> 822264706</td>\n",
       "      <td> 115839</td>\n",
       "      <td> 2</td>\n",
       "      <td> 10</td>\n",
       "      <td> 2.117417</td>\n",
       "      <td>-2.673835</td>\n",
       "      <td>...</td>\n",
       "      <td> 3.035841</td>\n",
       "      <td> 0</td>\n",
       "      <td> 0</td>\n",
       "      <td> 0</td>\n",
       "      <td> 0</td>\n",
       "      <td> 0</td>\n",
       "      <td> 1.091844</td>\n",
       "      <td> 115839_822264706</td>\n",
       "      <td> 1</td>\n",
       "      <td> 0</td>\n",
       "    </tr>\n",
       "    <tr>\n",
       "      <th>2</th>\n",
       "      <td> 1</td>\n",
       "      <td> 1</td>\n",
       "      <td>-1</td>\n",
       "      <td> 0</td>\n",
       "      <td>  68238381</td>\n",
       "      <td> 115839</td>\n",
       "      <td> 4</td>\n",
       "      <td> 16</td>\n",
       "      <td> 0.788837</td>\n",
       "      <td>-4.426422</td>\n",
       "      <td>...</td>\n",
       "      <td> 4.479315</td>\n",
       "      <td> 0</td>\n",
       "      <td> 0</td>\n",
       "      <td> 0</td>\n",
       "      <td> 0</td>\n",
       "      <td> 0</td>\n",
       "      <td>-0.263734</td>\n",
       "      <td>  115839_68238381</td>\n",
       "      <td> 1</td>\n",
       "      <td> 0</td>\n",
       "    </tr>\n",
       "    <tr>\n",
       "      <th>3</th>\n",
       "      <td> 1</td>\n",
       "      <td> 1</td>\n",
       "      <td>-1</td>\n",
       "      <td> 0</td>\n",
       "      <td>   3537659</td>\n",
       "      <td> 115839</td>\n",
       "      <td> 3</td>\n",
       "      <td> 38</td>\n",
       "      <td> 0.070327</td>\n",
       "      <td>-4.690033</td>\n",
       "      <td>...</td>\n",
       "      <td> 4.092348</td>\n",
       "      <td> 0</td>\n",
       "      <td> 0</td>\n",
       "      <td> 0</td>\n",
       "      <td> 0</td>\n",
       "      <td> 0</td>\n",
       "      <td> 1.062726</td>\n",
       "      <td>   115839_3537659</td>\n",
       "      <td> 1</td>\n",
       "      <td> 0</td>\n",
       "    </tr>\n",
       "    <tr>\n",
       "      <th>4</th>\n",
       "      <td> 0</td>\n",
       "      <td> 1</td>\n",
       "      <td>-1</td>\n",
       "      <td> 0</td>\n",
       "      <td>   2079583</td>\n",
       "      <td> 115839</td>\n",
       "      <td> 2</td>\n",
       "      <td> 31</td>\n",
       "      <td> 1.172778</td>\n",
       "      <td>-3.726187</td>\n",
       "      <td>...</td>\n",
       "      <td> 2.617929</td>\n",
       "      <td> 0</td>\n",
       "      <td> 0</td>\n",
       "      <td> 0</td>\n",
       "      <td> 0</td>\n",
       "      <td> 0</td>\n",
       "      <td> 0.949457</td>\n",
       "      <td>   115839_2079583</td>\n",
       "      <td>-1</td>\n",
       "      <td> 1</td>\n",
       "    </tr>\n",
       "  </tbody>\n",
       "</table>\n",
       "<p>5 rows × 56 columns</p>\n",
       "</div>"
      ],
      "text/plain": [
       "   iscorrect  tagAnswer  signVtx  tagger     evtNum  runNum  nnkrec  mult  \\\n",
       "0          0          1       -1       0  490856995  115839       3    19   \n",
       "1          1          1       -1       0  822264706  115839       2    10   \n",
       "2          1          1       -1       0   68238381  115839       4    16   \n",
       "3          1          1       -1       0    3537659  115839       3    38   \n",
       "4          0          1       -1       0    2079583  115839       2    31   \n",
       "\n",
       "        ptB      etaB    ...          svp  om_muon  om_ele  om_kaon  om_same  \\\n",
       "0 -0.382002 -6.307031    ...     5.458805        0       0        0        0   \n",
       "1  2.117417 -2.673835    ...     3.035841        0       0        0        0   \n",
       "2  0.788837 -4.426422    ...     4.479315        0       0        0        0   \n",
       "3  0.070327 -4.690033    ...     4.092348        0       0        0        0   \n",
       "4  1.172778 -3.726187    ...     2.617929        0       0        0        0   \n",
       "\n",
       "   om_vtx  N_sig_sw          event_id  signB  label  \n",
       "0       0  1.034008  115839_490856995     -1      1  \n",
       "1       0  1.091844  115839_822264706      1      0  \n",
       "2       0 -0.263734   115839_68238381      1      0  \n",
       "3       0  1.062726    115839_3537659      1      0  \n",
       "4       0  0.949457    115839_2079583     -1      1  \n",
       "\n",
       "[5 rows x 56 columns]"
      ]
     },
     "execution_count": 6,
     "metadata": {},
     "output_type": "execute_result"
    }
   ],
   "source": [
    "data.head()"
   ]
  },
  {
   "cell_type": "code",
   "execution_count": 7,
   "metadata": {
    "collapsed": false
   },
   "outputs": [
    {
     "data": {
      "text/plain": [
       "{'Events': 427102, 'tracks': 427103}"
      ]
     },
     "execution_count": 7,
     "metadata": {},
     "output_type": "execute_result"
    }
   ],
   "source": [
    "get_events_statistics(data)"
   ]
  },
  {
   "cell_type": "code",
   "execution_count": 8,
   "metadata": {
    "collapsed": false
   },
   "outputs": [
    {
     "name": "stdout",
     "output_type": "stream",
     "text": [
      "0.397426963471 0.000731430257878\n"
     ]
    }
   ],
   "source": [
    "N_pass = get_events_number(data)\n",
    "tagging_efficiency = 1. * N_pass / get_N_B_events()\n",
    "tagging_efficiency_delta = sqrt(N_pass) / get_N_B_events()\n",
    "print tagging_efficiency, tagging_efficiency_delta"
   ]
  },
  {
   "cell_type": "markdown",
   "metadata": {},
   "source": [
    "### Define B-like events for training and others for prediction"
   ]
  },
  {
   "cell_type": "code",
   "execution_count": 9,
   "metadata": {
    "collapsed": false
   },
   "outputs": [
    {
     "data": {
      "text/plain": [
       "{'Events': 247173, 'tracks': 247173}"
      ]
     },
     "execution_count": 9,
     "metadata": {},
     "output_type": "execute_result"
    }
   ],
   "source": [
    "sweight_threshold = 1.\n",
    "data_sw_passed = data[data.N_sig_sw > sweight_threshold]\n",
    "data_sw_not_passed = data[data.N_sig_sw <= sweight_threshold]\n",
    "get_events_statistics(data_sw_passed)"
   ]
  },
  {
   "cell_type": "markdown",
   "metadata": {},
   "source": [
    "### Define features"
   ]
  },
  {
   "cell_type": "code",
   "execution_count": 10,
   "metadata": {
    "collapsed": false
   },
   "outputs": [],
   "source": [
    "features =  ['mult', 'nnkrec', 'ptB', 'vflag', 'ipsmean', 'ptmean', 'vcharge', \n",
    "             'svm', 'svp', 'BDphiDir', 'svtau', 'docamax']"
   ]
  },
  {
   "cell_type": "markdown",
   "metadata": {},
   "source": [
    "## Find good vtx to define sign B\n",
    "\n",
    "trying to guess sign of B based on sign of vtx. If the guess is good, the vtx will be used on next step to train classifier."
   ]
  },
  {
   "cell_type": "markdown",
   "metadata": {},
   "source": [
    "### 2-folding random forest selection for right tagged events"
   ]
  },
  {
   "cell_type": "code",
   "execution_count": 11,
   "metadata": {
    "collapsed": true
   },
   "outputs": [],
   "source": [
    "data_sw_passed_lds = LabeledDataStorage(data_sw_passed, data_sw_passed.label, data_sw_passed.N_sig_sw)"
   ]
  },
  {
   "cell_type": "code",
   "execution_count": 12,
   "metadata": {
    "collapsed": false
   },
   "outputs": [
    {
     "name": "stdout",
     "output_type": "stream",
     "text": [
      "CPU times: user 2min 12s, sys: 2.09 s, total: 2min 14s\n",
      "Wall time: 34.7 s\n"
     ]
    }
   ],
   "source": [
    "base = RandomForestClassifier(n_estimators=300, max_depth=8, min_samples_leaf=50, n_jobs=4)\n",
    "est_choose_RT = FoldingClassifier(base, features=features, random_state=13)\n",
    "%time est_choose_RT.fit_lds(data_sw_passed_lds)\n",
    "pass"
   ]
  },
  {
   "cell_type": "code",
   "execution_count": 13,
   "metadata": {
    "collapsed": false
   },
   "outputs": [
    {
     "name": "stdout",
     "output_type": "stream",
     "text": [
      "KFold prediction using folds column\n"
     ]
    }
   ],
   "source": [
    "report = ClassificationReport({'rf': est_choose_RT}, data_sw_passed_lds)"
   ]
  },
  {
   "cell_type": "markdown",
   "metadata": {},
   "source": [
    "### ROC AUC"
   ]
  },
  {
   "cell_type": "code",
   "execution_count": 14,
   "metadata": {
    "collapsed": false
   },
   "outputs": [
    {
     "data": {
      "text/plain": [
       "OrderedDict([('rf', 0.55305902958521591)])"
      ]
     },
     "execution_count": 14,
     "metadata": {},
     "output_type": "execute_result"
    }
   ],
   "source": [
    "report.compute_metric(RocAuc())"
   ]
  },
  {
   "cell_type": "markdown",
   "metadata": {},
   "source": [
    "### ROC curve"
   ]
  },
  {
   "cell_type": "code",
   "execution_count": 15,
   "metadata": {
    "collapsed": false
   },
   "outputs": [
    {
     "data": {
      "text/html": [],
      "text/plain": [
       "<rep.plotting.FunctionsPlot at 0xda02910>"
      ]
     },
     "execution_count": 15,
     "metadata": {},
     "output_type": "execute_result"
    },
    {
     "data": {
      "image/png": "[encoded data removed]",
      "text/plain": [
       "<matplotlib.figure.Figure at 0x9397990>"
      ]
     },
     "metadata": {},
     "output_type": "display_data"
    }
   ],
   "source": [
    "plot([0, 1], [1, 0], 'k--')\n",
    "report.roc()"
   ]
  },
  {
   "cell_type": "code",
   "execution_count": 16,
   "metadata": {
    "collapsed": false
   },
   "outputs": [
    {
     "data": {
      "text/html": [
       "<div style=\"max-height:1000px;max-width:1500px;overflow:auto;\">\n",
       "<table border=\"1\" class=\"dataframe\">\n",
       "  <thead>\n",
       "    <tr style=\"text-align: right;\">\n",
       "      <th></th>\n",
       "      <th>feature</th>\n",
       "      <th>importance</th>\n",
       "    </tr>\n",
       "  </thead>\n",
       "  <tbody>\n",
       "    <tr>\n",
       "      <th>5 </th>\n",
       "      <td>   ptmean</td>\n",
       "      <td> 0.428948</td>\n",
       "    </tr>\n",
       "    <tr>\n",
       "      <th>4 </th>\n",
       "      <td>  ipsmean</td>\n",
       "      <td> 0.261835</td>\n",
       "    </tr>\n",
       "    <tr>\n",
       "      <th>7 </th>\n",
       "      <td>      svm</td>\n",
       "      <td> 0.239577</td>\n",
       "    </tr>\n",
       "    <tr>\n",
       "      <th>6 </th>\n",
       "      <td>  vcharge</td>\n",
       "      <td> 0.204398</td>\n",
       "    </tr>\n",
       "    <tr>\n",
       "      <th>9 </th>\n",
       "      <td> BDphiDir</td>\n",
       "      <td> 0.160545</td>\n",
       "    </tr>\n",
       "    <tr>\n",
       "      <th>10</th>\n",
       "      <td>    svtau</td>\n",
       "      <td> 0.146701</td>\n",
       "    </tr>\n",
       "    <tr>\n",
       "      <th>8 </th>\n",
       "      <td>      svp</td>\n",
       "      <td> 0.144029</td>\n",
       "    </tr>\n",
       "    <tr>\n",
       "      <th>0 </th>\n",
       "      <td>     mult</td>\n",
       "      <td> 0.127766</td>\n",
       "    </tr>\n",
       "    <tr>\n",
       "      <th>2 </th>\n",
       "      <td>      ptB</td>\n",
       "      <td> 0.118018</td>\n",
       "    </tr>\n",
       "    <tr>\n",
       "      <th>11</th>\n",
       "      <td>  docamax</td>\n",
       "      <td> 0.094645</td>\n",
       "    </tr>\n",
       "    <tr>\n",
       "      <th>3 </th>\n",
       "      <td>    vflag</td>\n",
       "      <td> 0.039639</td>\n",
       "    </tr>\n",
       "    <tr>\n",
       "      <th>1 </th>\n",
       "      <td>   nnkrec</td>\n",
       "      <td> 0.033898</td>\n",
       "    </tr>\n",
       "  </tbody>\n",
       "</table>\n",
       "</div>"
      ],
      "text/plain": [
       "     feature  importance\n",
       "5     ptmean    0.428948\n",
       "4    ipsmean    0.261835\n",
       "7        svm    0.239577\n",
       "6    vcharge    0.204398\n",
       "9   BDphiDir    0.160545\n",
       "10     svtau    0.146701\n",
       "8        svp    0.144029\n",
       "0       mult    0.127766\n",
       "2        ptB    0.118018\n",
       "11   docamax    0.094645\n",
       "3      vflag    0.039639\n",
       "1     nnkrec    0.033898"
      ]
     },
     "execution_count": 16,
     "metadata": {},
     "output_type": "execute_result"
    }
   ],
   "source": [
    "imp = numpy.sum([est.feature_importances_ for est in est_choose_RT.estimators], axis=0)\n",
    "imp = pandas.DataFrame({'importance': imp, 'feature': est_choose_RT.features})\n",
    "imp.sort('importance', ascending=False)"
   ]
  },
  {
   "cell_type": "markdown",
   "metadata": {},
   "source": [
    "## Distributions of output\n",
    "Using flattening of output with respect to one of classes"
   ]
  },
  {
   "cell_type": "code",
   "execution_count": 17,
   "metadata": {
    "collapsed": true
   },
   "outputs": [],
   "source": [
    "from utils import plot_flattened_probs"
   ]
  },
  {
   "cell_type": "code",
   "execution_count": 18,
   "metadata": {
    "collapsed": false
   },
   "outputs": [
    {
     "name": "stdout",
     "output_type": "stream",
     "text": [
      "KFold prediction using folds column\n"
     ]
    },
    {
     "data": {
      "image/png": "[encoded data removed]",
      "text/plain": [
       "<matplotlib.figure.Figure at 0x76eee90>"
      ]
     },
     "metadata": {},
     "output_type": "display_data"
    },
    {
     "data": {
      "image/png": "[encoded data removed]",
      "text/plain": [
       "<matplotlib.figure.Figure at 0x416c250>"
      ]
     },
     "metadata": {},
     "output_type": "display_data"
    }
   ],
   "source": [
    "probs = est_choose_RT.predict_proba(data_sw_passed)\n",
    "flat_ss = plot_flattened_probs(probs, data_sw_passed.label.values, data_sw_passed.N_sig_sw.values, label=1)\n",
    "flat_os = plot_flattened_probs(probs, data_sw_passed.label.values, data_sw_passed.N_sig_sw.values, label=0)"
   ]
  },
  {
   "cell_type": "code",
   "execution_count": 19,
   "metadata": {
    "collapsed": false
   },
   "outputs": [
    {
     "data": {
      "image/png": "[encoded data removed]",
      "text/plain": [
       "<matplotlib.figure.Figure at 0x93c7e50>"
      ]
     },
     "metadata": {},
     "output_type": "display_data"
    }
   ],
   "source": [
    "hist(probs[data_sw_passed.label.values == 1][:, 1], bins=60, normed=True, alpha=0.4)\n",
    "hist(probs[data_sw_passed.label.values == 0][:, 1], bins=60, normed=True, alpha=0.4)\n",
    "pass"
   ]
  },
  {
   "cell_type": "markdown",
   "metadata": {},
   "source": [
    "## Select good vtx\n",
    "\n",
    "leaving for training only those events that were not-so poorly predicted by RandomForest."
   ]
  },
  {
   "cell_type": "code",
   "execution_count": 20,
   "metadata": {
    "collapsed": false
   },
   "outputs": [],
   "source": [
    "mask = ((flat_ss(probs[:, 1]) < 0.6) & (data_sw_passed.label == 0)) | \\\n",
    "       ((flat_os(probs[:, 1]) > 0.2) & (data_sw_passed.label == 1))\n",
    "data_sw_passed_selected = data_sw_passed[mask]\n",
    "data_sw_passed_not_selected = data_sw_passed[~mask]"
   ]
  },
  {
   "cell_type": "code",
   "execution_count": 21,
   "metadata": {
    "collapsed": false
   },
   "outputs": [
    {
     "data": {
      "text/plain": [
       "{'Events': 185460, 'tracks': 185460}"
      ]
     },
     "execution_count": 21,
     "metadata": {},
     "output_type": "execute_result"
    }
   ],
   "source": [
    "get_events_statistics(data_sw_passed_selected)"
   ]
  },
  {
   "cell_type": "code",
   "execution_count": 22,
   "metadata": {
    "collapsed": true
   },
   "outputs": [],
   "source": [
    "data_sw_passed_selected_lds = LabeledDataStorage(data_sw_passed_selected, \n",
    "                                                 data_sw_passed_selected.label, \n",
    "                                                 data_sw_passed_selected.N_sig_sw)"
   ]
  },
  {
   "cell_type": "markdown",
   "metadata": {},
   "source": [
    "### DT for good vtx"
   ]
  },
  {
   "cell_type": "code",
   "execution_count": 23,
   "metadata": {
    "collapsed": false
   },
   "outputs": [
    {
     "name": "stdout",
     "output_type": "stream",
     "text": [
      "CPU times: user 24.8 s, sys: 2.16 s, total: 26.9 s\n",
      "Wall time: 3min 49s\n"
     ]
    }
   ],
   "source": [
    "from hep_ml.decisiontrain import DecisionTrainClassifier\n",
    "from hep_ml.losses import LogLossFunction\n",
    "\n",
    "tt_base = DecisionTrainClassifier(learning_rate=0.02, n_estimators=9000, depth=6, pretransform_needed=True, \n",
    "                                  max_features=8, loss=LogLossFunction(regularization=100))\n",
    "tt_folding_rf = FoldingClassifier(tt_base, n_folds=2, random_state=11, ipc_profile='ssh-ipy',\n",
    "                                   features=features)\n",
    "%time tt_folding_rf.fit_lds(data_sw_passed_selected_lds)\n",
    "pass"
   ]
  },
  {
   "cell_type": "markdown",
   "metadata": {},
   "source": [
    "### Report for selected vtx"
   ]
  },
  {
   "cell_type": "code",
   "execution_count": 24,
   "metadata": {
    "collapsed": false
   },
   "outputs": [
    {
     "name": "stdout",
     "output_type": "stream",
     "text": [
      "KFold prediction using folds column\n"
     ]
    }
   ],
   "source": [
    "report = ClassificationReport({'tt': tt_folding_rf}, data_sw_passed_selected_lds)"
   ]
  },
  {
   "cell_type": "code",
   "execution_count": 25,
   "metadata": {
    "collapsed": false
   },
   "outputs": [
    {
     "name": "stdout",
     "output_type": "stream",
     "text": [
      "Default prediction\n"
     ]
    },
    {
     "data": {
      "text/html": [],
      "text/plain": [
       "<rep.plotting.FunctionsPlot at 0xe5960d0>"
      ]
     },
     "execution_count": 25,
     "metadata": {},
     "output_type": "execute_result"
    },
    {
     "data": {
      "image/png": "[encoded data removed]",
      "text/plain": [
       "<matplotlib.figure.Figure at 0x9397390>"
      ]
     },
     "metadata": {},
     "output_type": "display_data"
    }
   ],
   "source": [
    "report.learning_curve(RocAuc())"
   ]
  },
  {
   "cell_type": "code",
   "execution_count": 26,
   "metadata": {
    "collapsed": false
   },
   "outputs": [
    {
     "data": {
      "text/plain": [
       "OrderedDict([('tt', 0.81554209347063)])"
      ]
     },
     "execution_count": 26,
     "metadata": {},
     "output_type": "execute_result"
    }
   ],
   "source": [
    "report.compute_metric(RocAuc())"
   ]
  },
  {
   "cell_type": "markdown",
   "metadata": {},
   "source": [
    "-----------"
   ]
  },
  {
   "cell_type": "markdown",
   "metadata": {},
   "source": [
    "## Training on all vtx\n",
    "in this case we don't use preselection with RandomForest"
   ]
  },
  {
   "cell_type": "markdown",
   "metadata": {},
   "source": [
    "### DT full"
   ]
  },
  {
   "cell_type": "code",
   "execution_count": 27,
   "metadata": {
    "collapsed": false
   },
   "outputs": [
    {
     "name": "stdout",
     "output_type": "stream",
     "text": [
      "CPU times: user 5.93 s, sys: 520 ms, total: 6.45 s\n",
      "Wall time: 51.3 s\n"
     ]
    }
   ],
   "source": [
    "from hep_ml.decisiontrain import DecisionTrainClassifier\n",
    "from hep_ml.losses import LogLossFunction\n",
    "tt_base = DecisionTrainClassifier(learning_rate=0.02, n_estimators=1500, depth=6, pretransform_needed=True, \n",
    "                                  max_features=8, loss=LogLossFunction(regularization=100))\n",
    "tt_folding = FoldingClassifier(tt_base, n_folds=2, random_state=11, ipc_profile='ssh-ipy',\n",
    "                               features=features)\n",
    "%time tt_folding.fit_lds(data_sw_passed_lds)\n",
    "pass"
   ]
  },
  {
   "cell_type": "markdown",
   "metadata": {},
   "source": [
    "### Report for all vtx"
   ]
  },
  {
   "cell_type": "code",
   "execution_count": 28,
   "metadata": {
    "collapsed": false
   },
   "outputs": [
    {
     "name": "stdout",
     "output_type": "stream",
     "text": [
      "KFold prediction using folds column\n"
     ]
    }
   ],
   "source": [
    "report = ClassificationReport({'tt': tt_folding}, data_sw_passed_lds)"
   ]
  },
  {
   "cell_type": "code",
   "execution_count": 29,
   "metadata": {
    "collapsed": false
   },
   "outputs": [
    {
     "name": "stdout",
     "output_type": "stream",
     "text": [
      "Default prediction\n"
     ]
    },
    {
     "data": {
      "text/html": [],
      "text/plain": [
       "<rep.plotting.FunctionsPlot at 0x1078a6d0>"
      ]
     },
     "execution_count": 29,
     "metadata": {},
     "output_type": "execute_result"
    },
    {
     "data": {
      "image/png": "[encoded data removed]",
      "text/plain": [
       "<matplotlib.figure.Figure at 0x1078ad10>"
      ]
     },
     "metadata": {},
     "output_type": "display_data"
    }
   ],
   "source": [
    "report.learning_curve(RocAuc())"
   ]
  },
  {
   "cell_type": "code",
   "execution_count": 30,
   "metadata": {
    "collapsed": false
   },
   "outputs": [
    {
     "data": {
      "text/plain": [
       "OrderedDict([('tt', 0.5544309400521632)])"
      ]
     },
     "execution_count": 30,
     "metadata": {},
     "output_type": "execute_result"
    }
   ],
   "source": [
    "report.compute_metric(RocAuc())"
   ]
  },
  {
   "cell_type": "code",
   "execution_count": 31,
   "metadata": {
    "collapsed": false
   },
   "outputs": [
    {
     "data": {
      "text/html": [],
      "text/plain": [
       "<rep.plotting.FunctionsPlot at 0xe591790>"
      ]
     },
     "execution_count": 31,
     "metadata": {},
     "output_type": "execute_result"
    },
    {
     "data": {
      "image/png": "[encoded data removed]",
      "text/plain": [
       "<matplotlib.figure.Figure at 0x884f550>"
      ]
     },
     "metadata": {},
     "output_type": "display_data"
    }
   ],
   "source": [
    "report.roc()"
   ]
  },
  {
   "cell_type": "markdown",
   "metadata": {},
   "source": [
    "--------"
   ]
  },
  {
   "cell_type": "markdown",
   "metadata": {},
   "source": [
    "## Calibrating results $p(\\text{vrt same sign}|B)$ and combining them"
   ]
  },
  {
   "cell_type": "code",
   "execution_count": 34,
   "metadata": {
    "collapsed": true
   },
   "outputs": [],
   "source": [
    "models = []"
   ]
  },
  {
   "cell_type": "code",
   "execution_count": 35,
   "metadata": {
    "collapsed": true
   },
   "outputs": [],
   "source": [
    "from utils import get_result_with_bootstrap_for_given_part"
   ]
  },
  {
   "cell_type": "code",
   "execution_count": 36,
   "metadata": {
    "collapsed": false
   },
   "outputs": [
    {
     "name": "stdout",
     "output_type": "stream",
     "text": [
      "KFold prediction using folds column\n",
      "KFold prediction using folds column\n"
     ]
    },
    {
     "data": {
      "image/png": "[encoded data removed]",
      "text/plain": [
       "<matplotlib.figure.Figure at 0xe389d50>"
      ]
     },
     "metadata": {},
     "output_type": "display_data"
    },
    {
     "name": "stdout",
     "output_type": "stream",
     "text": [
      "AUC for tagged: 0.594531402965 AUC with untag: 0.545941336892\n",
      "mean AUC after calibration: 0.594617024804 1.39432754719e-06\n"
     ]
    }
   ],
   "source": [
    "models.append(get_result_with_bootstrap_for_given_part(tagging_efficiency, tagging_efficiency_delta, tt_folding, \n",
    "                                                      [data_sw_passed, data_sw_not_passed], \n",
    "                                                      logistic=True, name=\"tt-log\",\n",
    "                                                      sign_part_column='signVtx', part_name='vertex'))"
   ]
  },
  {
   "cell_type": "code",
   "execution_count": 37,
   "metadata": {
    "collapsed": false
   },
   "outputs": [
    {
     "name": "stdout",
     "output_type": "stream",
     "text": [
      "KFold prediction using folds column\n",
      "KFold prediction using folds column\n"
     ]
    },
    {
     "data": {
      "image/png": "[encoded data removed]",
      "text/plain": [
       "<matplotlib.figure.Figure at 0x8839ed0>"
      ]
     },
     "metadata": {},
     "output_type": "display_data"
    },
    {
     "name": "stdout",
     "output_type": "stream",
     "text": [
      "AUC for tagged: 0.594426504272 AUC with untag: 0.546503619328\n",
      "mean AUC after calibration: 0.594335879589 8.77876636993e-07\n"
     ]
    }
   ],
   "source": [
    "models.append(get_result_with_bootstrap_for_given_part(tagging_efficiency, tagging_efficiency_delta, tt_folding, \n",
    "                                                      [data_sw_passed, data_sw_not_passed], \n",
    "                                                      logistic=False, name=\"tt-iso\",\n",
    "                                                      sign_part_column='signVtx', part_name='vertex'))"
   ]
  },
  {
   "cell_type": "code",
   "execution_count": null,
   "metadata": {
    "collapsed": false
   },
   "outputs": [
    {
     "name": "stdout",
     "output_type": "stream",
     "text": [
      "KFold prediction using folds column\n",
      "KFold prediction using folds column\n",
      "KFold prediction using folds column\n"
     ]
    },
    {
     "data": {
      "image/png": "[encoded data removed]",
      "text/plain": [
       "<matplotlib.figure.Figure at 0x3dccbd0>"
      ]
     },
     "metadata": {},
     "output_type": "display_data"
    },
    {
     "name": "stdout",
     "output_type": "stream",
     "text": [
      "AUC for tagged: 0.594876938573 AUC with untag: 0.545332191596\n",
      "mean AUC after calibration: 0.594915538591 1.91431386544e-06\n"
     ]
    }
   ],
   "source": [
    "models.append(get_result_with_bootstrap_for_given_part(tagging_efficiency, tagging_efficiency_delta, tt_folding_rf, \n",
    "                                                      [data_sw_passed_selected,\n",
    "                                                       data_sw_passed_not_selected,\n",
    "                                                       data_sw_not_passed],\n",
    "                                                      logistic=True, name=\"rf-tt-log\",\n",
    "                                                      sign_part_column='signVtx', part_name='vertex'))"
   ]
  },
  {
   "cell_type": "code",
   "execution_count": null,
   "metadata": {
    "collapsed": false
   },
   "outputs": [
    {
     "name": "stdout",
     "output_type": "stream",
     "text": [
      "KFold prediction using folds column\n",
      "KFold prediction using folds column\n",
      "KFold prediction using folds column\n"
     ]
    },
    {
     "data": {
      "image/png": "[encoded data removed]",
      "text/plain": [
       "<matplotlib.figure.Figure at 0x1078e150>"
      ]
     },
     "metadata": {},
     "output_type": "display_data"
    }
   ],
   "source": [
    "models.append(get_result_with_bootstrap_for_given_part(tagging_efficiency,\n",
    "                                                       tagging_efficiency_delta, tt_folding_rf, \n",
    "                                                      [data_sw_passed_selected,\n",
    "                                                       data_sw_passed_not_selected, \n",
    "                                                       data_sw_not_passed], \n",
    "                                                      logistic=False, name=\"rf-tt-iso\",\n",
    "                                                      sign_part_column='signVtx', part_name='vertex'))"
   ]
  },
  {
   "cell_type": "markdown",
   "metadata": {},
   "source": [
    "# Comparison of different models"
   ]
  },
  {
   "cell_type": "code",
   "execution_count": 41,
   "metadata": {
    "collapsed": false
   },
   "outputs": [
    {
     "data": {
      "text/html": [
       "<div style=\"max-height:1000px;max-width:1500px;overflow:auto;\">\n",
       "<table border=\"1\" class=\"dataframe\">\n",
       "  <thead>\n",
       "    <tr style=\"text-align: right;\">\n",
       "      <th></th>\n",
       "      <th>name</th>\n",
       "      <th>$\\epsilon_{tag}, \\%$</th>\n",
       "      <th>$\\Delta \\epsilon_{tag}, \\%$</th>\n",
       "      <th>$D^2$</th>\n",
       "      <th>$\\Delta D^2$</th>\n",
       "      <th>$\\epsilon, \\%$</th>\n",
       "      <th>$\\Delta \\epsilon, \\%$</th>\n",
       "      <th>AUC, with untag</th>\n",
       "      <th>$\\Delta$ AUC, with untag</th>\n",
       "    </tr>\n",
       "  </thead>\n",
       "  <tbody>\n",
       "    <tr>\n",
       "      <th>0</th>\n",
       "      <td>    tt-log</td>\n",
       "      <td> 39.742696</td>\n",
       "      <td> 0.073143</td>\n",
       "      <td> 0.027520</td>\n",
       "      <td> 0.000569</td>\n",
       "      <td> 1.093730</td>\n",
       "      <td> 0.022685</td>\n",
       "      <td> 54.594134</td>\n",
       "      <td> 0</td>\n",
       "    </tr>\n",
       "    <tr>\n",
       "      <th>0</th>\n",
       "      <td>    tt-iso</td>\n",
       "      <td> 39.742696</td>\n",
       "      <td> 0.073143</td>\n",
       "      <td> 0.031223</td>\n",
       "      <td> 0.003030</td>\n",
       "      <td> 1.240869</td>\n",
       "      <td> 0.120423</td>\n",
       "      <td> 54.650362</td>\n",
       "      <td> 0</td>\n",
       "    </tr>\n",
       "    <tr>\n",
       "      <th>0</th>\n",
       "      <td> rf-tt-log</td>\n",
       "      <td> 39.742696</td>\n",
       "      <td> 0.073143</td>\n",
       "      <td> 0.027696</td>\n",
       "      <td> 0.000673</td>\n",
       "      <td> 1.100699</td>\n",
       "      <td> 0.026814</td>\n",
       "      <td> 54.533219</td>\n",
       "      <td> 0</td>\n",
       "    </tr>\n",
       "    <tr>\n",
       "      <th>0</th>\n",
       "      <td> rf-tt-iso</td>\n",
       "      <td> 39.742696</td>\n",
       "      <td> 0.073143</td>\n",
       "      <td> 0.028914</td>\n",
       "      <td> 0.003222</td>\n",
       "      <td> 1.149137</td>\n",
       "      <td> 0.128051</td>\n",
       "      <td> 54.678429</td>\n",
       "      <td> 0</td>\n",
       "    </tr>\n",
       "  </tbody>\n",
       "</table>\n",
       "</div>"
      ],
      "text/plain": [
       "        name  $\\epsilon_{tag}, \\%$  $\\Delta \\epsilon_{tag}, \\%$     $D^2$  \\\n",
       "0     tt-log             39.742696                     0.073143  0.027520   \n",
       "0     tt-iso             39.742696                     0.073143  0.031223   \n",
       "0  rf-tt-log             39.742696                     0.073143  0.027696   \n",
       "0  rf-tt-iso             39.742696                     0.073143  0.028914   \n",
       "\n",
       "   $\\Delta D^2$  $\\epsilon, \\%$  $\\Delta \\epsilon, \\%$  AUC, with untag  \\\n",
       "0      0.000569        1.093730               0.022685        54.594134   \n",
       "0      0.003030        1.240869               0.120423        54.650362   \n",
       "0      0.000673        1.100699               0.026814        54.533219   \n",
       "0      0.003222        1.149137               0.128051        54.678429   \n",
       "\n",
       "   $\\Delta$ AUC, with untag  \n",
       "0                         0  \n",
       "0                         0  \n",
       "0                         0  \n",
       "0                         0  "
      ]
     },
     "execution_count": 41,
     "metadata": {},
     "output_type": "execute_result"
    }
   ],
   "source": [
    "pandas.concat(models)"
   ]
  },
  {
   "cell_type": "markdown",
   "metadata": {
    "collapsed": true
   },
   "source": [
    "## Implementing the best vertex model\n",
    "\n",
    "and saving its predictions"
   ]
  },
  {
   "cell_type": "code",
   "execution_count": 42,
   "metadata": {
    "collapsed": true
   },
   "outputs": [],
   "source": [
    "from utils import prepare_B_data_for_given_part"
   ]
  },
  {
   "cell_type": "code",
   "execution_count": 43,
   "metadata": {
    "collapsed": false
   },
   "outputs": [
    {
     "name": "stdout",
     "output_type": "stream",
     "text": [
      "KFold prediction using folds column\n",
      "KFold prediction using folds column\n"
     ]
    },
    {
     "data": {
      "image/png": "[encoded data removed]",
      "text/plain": [
       "<matplotlib.figure.Figure at 0x13f00550>"
      ]
     },
     "metadata": {},
     "output_type": "display_data"
    },
    {
     "name": "stdout",
     "output_type": "stream",
     "text": [
      "AUC for tagged: 0.594426504272 AUC with untag: 0.546503619328\n"
     ]
    },
    {
     "data": {
      "image/png": "[encoded data removed]",
      "text/plain": [
       "<matplotlib.figure.Figure at 0x13f00d10>"
      ]
     },
     "metadata": {},
     "output_type": "display_data"
    }
   ],
   "source": [
    "Bdata_prepared = prepare_B_data_for_given_part(tt_folding, [data_sw_passed, data_sw_not_passed], logistic=False,\n",
    "                                               sign_part_column='signVtx', part_name='vertex')"
   ]
  },
  {
   "cell_type": "code",
   "execution_count": 44,
   "metadata": {
    "collapsed": true
   },
   "outputs": [],
   "source": [
    "Bdata_prepared.to_csv('models/Bdata_vertex.csv', header=True, index=False)"
   ]
  }
 ],
 "metadata": {
  "kernelspec": {
   "display_name": "Python 2",
   "language": "python",
   "name": "python2"
  },
  "language_info": {
   "codemirror_mode": {
    "name": "ipython",
    "version": 2
   },
   "file_extension": ".py",
   "mimetype": "text/x-python",
   "name": "python",
   "nbconvert_exporter": "python",
   "pygments_lexer": "ipython2",
   "version": "2.7.3"
  }
 },
 "nbformat": 4,
 "nbformat_minor": 0
}
